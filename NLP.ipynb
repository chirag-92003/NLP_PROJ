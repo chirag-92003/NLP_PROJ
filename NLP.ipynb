{
 "cells": [
  {
   "cell_type": "markdown",
   "id": "a6bb1bb1",
   "metadata": {},
   "source": [
    "Fetch Social Media & Web Data\n",
    "Twitter API (X API) - Get stock-related tweets"
   ]
  },
  {
   "cell_type": "code",
   "execution_count": null,
   "id": "a47fb07f",
   "metadata": {},
   "outputs": [],
   "source": [
    "import tweepy\n",
    "from dotenv import load_dotenv\n",
    "import os\n",
    "import csv\n",
    "\n",
    "api_key = os.getenv(\"TWITTER_API_KEY\")\n",
    "api_secret = os.getenv(\"TWITTER_API_SECRET\")\n",
    "access_token = os.getenv(\"TWITTER_ACCESS_TOKEN\")\n",
    "access_secret = os.getenv(\"TWITTER_ACCESS_SECRET\")\n",
    "\n",
    "auth = tweepy.OAuthHandler(api_key, api_secret)\n",
    "auth.set_access_token(access_token, access_secret)\n",
    "api = tweepy.API(auth)\n",
    "\n",
    "with open(\"tweets.csv\", \"a\", newline=\"\", encoding=\"utf-8\") as file:\n",
    "    writer = csv.writer(file)\n",
    "    writer.writerow([\"Tweet\"])\n",
    "\n",
    "# Fetch tweets\n",
    "tweets = tweepy.Cursor(api.search_tweets, q=\"Tesla OR $TSLA\", lang=\"en\", count=100).items(500)\n",
    "tweet_texts = [tweet.text for tweet in tweets]"
   ]
  },
  {
   "cell_type": "code",
   "execution_count": null,
   "id": "66ad72cd",
   "metadata": {},
   "outputs": [],
   "source": [
    "import praw\n",
    "import os\n",
    "\n",
    "reddit = praw.Reddit(client_id=os.getenv(\"Reddit_client_id\"),\n",
    "                     client_secret=os.getenv(\"Reddit_client_secret\"), \n",
    "                     user_agent=os.getenv(\"Reddit_user_agent\"))\n",
    "subreddit = reddit.subreddit(\"stocks\")\n",
    "posts = [post.title + \" \" + post.selftext for post in subreddit.hot(limit=100)]"
   ]
  },
  {
   "cell_type": "code",
   "execution_count": null,
   "id": "3c1c2ca4",
   "metadata": {},
   "outputs": [],
   "source": [
    "from newsapi import NewsApiClient\n",
    "\n",
    "newsapi = NewsApiClient(api_key=\"YOUR_NEWSAPI_KEY\")\n",
    "articles = newsapi.get_everything(q=\"stock market\", language=\"en\", page_size=100)\n",
    "news_texts = [article['title'] + \" \" + article['description'] for article in articles['articles']]\n"
   ]
  },
  {
   "cell_type": "code",
   "execution_count": null,
   "id": "1ca42c9a",
   "metadata": {},
   "outputs": [],
   "source": [
    "import yfinance as yf\n",
    "\n",
    "stock_data = yf.download(\"TSLA\", start=\"2023-01-01\", end=\"2024-01-01\")\n",
    "stock_data['Returns'] = stock_data['Close'].pct_change()"
   ]
  },
  {
   "cell_type": "code",
   "execution_count": null,
   "id": "eb382b03",
   "metadata": {},
   "outputs": [],
   "source": [
    "import talib\n",
    "\n",
    "stock_data['SMA_50'] = talib.SMA(stock_data['Close'], timeperiod=50)\n",
    "stock_data['RSI'] = talib.RSI(stock_data['Close'], timeperiod=14)\n"
   ]
  }
 ],
 "metadata": {
  "kernelspec": {
   "display_name": "venv",
   "language": "python",
   "name": "python3"
  },
  "language_info": {
   "name": "python",
   "version": "3.11.9"
  }
 },
 "nbformat": 4,
 "nbformat_minor": 5
}
